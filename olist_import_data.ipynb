{
 "cells": [
  {
   "cell_type": "code",
   "execution_count": 1,
   "id": "6ce53ecf-9ee3-490f-a60b-5a8c176bf1db",
   "metadata": {},
   "outputs": [
    {
     "name": "stdout",
     "output_type": "stream",
     "text": [
      "Read 'olist_customers_dataset.csv' successfully. Shape: (99441, 5)\n",
      "Created 'customers' table and imported data.\n",
      "Read 'olist_geolocation_dataset.csv' successfully. Shape: (1000163, 5)\n",
      "Created 'geolocation' table and imported data.\n",
      "Read 'olist_orders_dataset.csv' successfully. Shape: (99441, 8)\n",
      "Created 'orders' table and imported data.\n",
      "Read 'olist_order_items_dataset.csv' successfully. Shape: (112650, 7)\n",
      "Created 'order_items' table and imported data.\n",
      "Read 'olist_order_payments_dataset.csv' successfully. Shape: (103886, 5)\n",
      "Created 'order_payments' table and imported data.\n",
      "Read 'olist_order_reviews_dataset.csv' successfully. Shape: (99224, 7)\n",
      "Created 'order_reviews' table and imported data.\n",
      "Read 'olist_products_dataset.csv' successfully. Shape: (32951, 9)\n",
      "Created 'products' table and imported data.\n",
      "Read 'olist_sellers_dataset.csv' successfully. Shape: (3095, 4)\n",
      "Created 'sellers' table and imported data.\n",
      "Read 'product_category_name_translation.csv' successfully. Shape: (71, 2)\n",
      "Created 'category_translation' table and imported data.\n",
      "Done\n"
     ]
    }
   ],
   "source": [
    "import pandas as pd\n",
    "from sqlalchemy import create_engine\n",
    "import os\n",
    "from dotenv import load_dotenv\n",
    "\n",
    "# Load variables from the .env file into the environment\n",
    "load_dotenv() \n",
    "\n",
    "# Get database credentials from environment variables\n",
    "# Use os.getenv() to read the values from environment variables\n",
    "db_user = os.getenv(\"DB_USER\")\n",
    "db_password = os.getenv(\"DB_PASSWORD\")\n",
    "db_host = os.getenv(\"DB_HOST\")\n",
    "db_port = os.getenv(\"DB_PORT\")\n",
    "db_name = os.getenv(\"DB_NAME\")\n",
    "\n",
    "# Construct the connection string using the variables\n",
    "db_connection_str = f'postgresql://{db_user}:{db_password}@{db_host}:{db_port}/{db_name}'\n",
    "db_engine = create_engine(db_connection_str)\n",
    "\n",
    "# Path to the folder containing the Olist CSV files.\n",
    "csv_folder_path = r'C:\\Users\\Jay\\Documents\\Projects\\Brazillian e-commerce public dataset\\data'\n",
    "\n",
    "# Get a list of all files in the specified folder\n",
    "all_files = os.listdir(csv_folder_path)\n",
    "\n",
    "# Filter the list to include only .csv files\n",
    "csv_files = [f for f in all_files if f.endswith('.csv')]\n",
    "\n",
    "# Loop through each CSV file to process and import it\n",
    "all_successful = True # Variable to track overall success\n",
    "\n",
    "for file in csv_files:\n",
    "    try:\n",
    "        # Create the table name based on filename, with a special case for translation file\n",
    "        if file == 'product_category_name_translation.csv':\n",
    "            table_name = 'category_translation'\n",
    "        else:\n",
    "            table_name = file.replace('olist_', '').replace('_dataset.csv', '')\n",
    "        \n",
    "        # Create the full path to the CSV file\n",
    "        file_path = os.path.join(csv_folder_path, file)\n",
    "        \n",
    "        # Read the .csv file into a pandas DataFrame\n",
    "        df = pd.read_csv(file_path) \n",
    "        \n",
    "        print(f\"Read '{file}' successfully. Shape: {df.shape}\")\n",
    "        \n",
    "        # Create a new table and insert data\n",
    "        df.to_sql(table_name, db_engine, if_exists='replace', index=False)\n",
    "        \n",
    "        print(f\"Created '{table_name}' table and imported data.\")\n",
    "\n",
    "    except Exception as e:\n",
    "        print(f\"An error occurred while processing '{file}': {e}\")\n",
    "        all_successful = False # Set flag to False if any error occurs\n",
    "\n",
    "if all_successful:\n",
    "    print('Done')"
   ]
  },
  {
   "cell_type": "code",
   "execution_count": null,
   "id": "21ca262e-a76b-4fbc-863b-0167d7ae7fc6",
   "metadata": {},
   "outputs": [],
   "source": []
  }
 ],
 "metadata": {
  "kernelspec": {
   "display_name": "Python [conda env:base] *",
   "language": "python",
   "name": "conda-base-py"
  },
  "language_info": {
   "codemirror_mode": {
    "name": "ipython",
    "version": 3
   },
   "file_extension": ".py",
   "mimetype": "text/x-python",
   "name": "python",
   "nbconvert_exporter": "python",
   "pygments_lexer": "ipython3",
   "version": "3.12.7"
  }
 },
 "nbformat": 4,
 "nbformat_minor": 5
}
